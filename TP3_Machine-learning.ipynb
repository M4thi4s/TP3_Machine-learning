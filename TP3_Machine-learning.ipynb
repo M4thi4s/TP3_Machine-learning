{
 "cells": [
  {
   "cell_type": "markdown",
   "metadata": {},
   "source": [
    "# Présentation du TP sur la classification de films\n",
    "\n",
    "L'objectif de ce TP est d'identifier le genre d'un film à partir de son résumé.\n",
    "\n",
    "Le TP se fera en binôme et le notebook sera à déposer sur madoc pour le **vendredi 08/04/2022**."
   ]
  },
  {
   "cell_type": "markdown",
   "metadata": {},
   "source": [
    "## 1. Pré-traitement et visualisation des données \n",
    "\n",
    "Les données correspondent aux 1000 films les plus populaires d'IMDB, entre 2006 et 2016 ([imdb-data](https://www.kaggle.com/datasets/PromptCloudHQ/imdb-data)).  \n",
    "\n",
    "Dans cette première partie du TP, vous devrez récupérer les données et les stocker dans un dataframe puis effectuer quelques visualisations de celles-ci."
   ]
  },
  {
   "cell_type": "markdown",
   "metadata": {},
   "source": [
    "### Import des données dans un dataframe\n"
   ]
  },
  {
   "cell_type": "code",
   "execution_count": 6,
   "metadata": {},
   "outputs": [
    {
     "name": "stdout",
     "output_type": "stream",
     "text": [
      "   Rank                    Title                       Genre  \\\n",
      "0     1  Guardians of the Galaxy     Action,Adventure,Sci-Fi   \n",
      "1     2               Prometheus    Adventure,Mystery,Sci-Fi   \n",
      "2     3                    Split             Horror,Thriller   \n",
      "3     4                     Sing     Animation,Comedy,Family   \n",
      "4     5            Suicide Squad    Action,Adventure,Fantasy   \n",
      "5     6           The Great Wall    Action,Adventure,Fantasy   \n",
      "6     7               La La Land          Comedy,Drama,Music   \n",
      "7     8                 Mindhorn                      Comedy   \n",
      "8     9       The Lost City of Z  Action,Adventure,Biography   \n",
      "9    10               Passengers     Adventure,Drama,Romance   \n",
      "\n",
      "                                         Description              Director  \\\n",
      "0  A group of intergalactic criminals are forced ...            James Gunn   \n",
      "1  Following clues to the origin of mankind, a te...          Ridley Scott   \n",
      "2  Three girls are kidnapped by a man with a diag...    M. Night Shyamalan   \n",
      "3  In a city of humanoid animals, a hustling thea...  Christophe Lourdelet   \n",
      "4  A secret government agency recruits some of th...            David Ayer   \n",
      "5  European mercenaries searching for black powde...           Yimou Zhang   \n",
      "6  A jazz pianist falls for an aspiring actress i...       Damien Chazelle   \n",
      "7  A has-been actor best known for playing the ti...            Sean Foley   \n",
      "8  A true-life drama, centering on British explor...            James Gray   \n",
      "9  A spacecraft traveling to a distant colony pla...         Morten Tyldum   \n",
      "\n",
      "                                              Actors  Year  Runtime (Minutes)  \\\n",
      "0  Chris Pratt, Vin Diesel, Bradley Cooper, Zoe S...  2014                121   \n",
      "1  Noomi Rapace, Logan Marshall-Green, Michael Fa...  2012                124   \n",
      "2  James McAvoy, Anya Taylor-Joy, Haley Lu Richar...  2016                117   \n",
      "3  Matthew McConaughey,Reese Witherspoon, Seth Ma...  2016                108   \n",
      "4  Will Smith, Jared Leto, Margot Robbie, Viola D...  2016                123   \n",
      "5      Matt Damon, Tian Jing, Willem Dafoe, Andy Lau  2016                103   \n",
      "6  Ryan Gosling, Emma Stone, Rosemarie DeWitt, J....  2016                128   \n",
      "7  Essie Davis, Andrea Riseborough, Julian Barrat...  2016                 89   \n",
      "8  Charlie Hunnam, Robert Pattinson, Sienna Mille...  2016                141   \n",
      "9  Jennifer Lawrence, Chris Pratt, Michael Sheen,...  2016                116   \n",
      "\n",
      "   Rating   Votes  Revenue (Millions)  Metascore  \n",
      "0     8.1  757074              333.13       76.0  \n",
      "1     7.0  485820              126.46       65.0  \n",
      "2     7.3  157606              138.12       62.0  \n",
      "3     7.2   60545              270.32       59.0  \n",
      "4     6.2  393727              325.02       40.0  \n",
      "5     6.1   56036               45.13       42.0  \n",
      "6     8.3  258682              151.06       93.0  \n",
      "7     6.4    2490                 NaN       71.0  \n",
      "8     7.1    7188                8.01       78.0  \n",
      "9     7.0  192177              100.01       41.0  \n"
     ]
    }
   ],
   "source": [
    "import pandas as pd\n",
    "df = pd.read_csv ('./data/IMDB-Movie-Data.csv')"
   ]
  },
  {
   "cell_type": "markdown",
   "metadata": {},
   "source": [
    "### Affichage des 10 premiers films\n"
   ]
  },
  {
   "cell_type": "code",
   "execution_count": 7,
   "metadata": {},
   "outputs": [
    {
     "name": "stdout",
     "output_type": "stream",
     "text": [
      "   Rank                    Title                       Genre  \\\n",
      "0     1  Guardians of the Galaxy     Action,Adventure,Sci-Fi   \n",
      "1     2               Prometheus    Adventure,Mystery,Sci-Fi   \n",
      "2     3                    Split             Horror,Thriller   \n",
      "3     4                     Sing     Animation,Comedy,Family   \n",
      "4     5            Suicide Squad    Action,Adventure,Fantasy   \n",
      "5     6           The Great Wall    Action,Adventure,Fantasy   \n",
      "6     7               La La Land          Comedy,Drama,Music   \n",
      "7     8                 Mindhorn                      Comedy   \n",
      "8     9       The Lost City of Z  Action,Adventure,Biography   \n",
      "9    10               Passengers     Adventure,Drama,Romance   \n",
      "\n",
      "                                         Description              Director  \\\n",
      "0  A group of intergalactic criminals are forced ...            James Gunn   \n",
      "1  Following clues to the origin of mankind, a te...          Ridley Scott   \n",
      "2  Three girls are kidnapped by a man with a diag...    M. Night Shyamalan   \n",
      "3  In a city of humanoid animals, a hustling thea...  Christophe Lourdelet   \n",
      "4  A secret government agency recruits some of th...            David Ayer   \n",
      "5  European mercenaries searching for black powde...           Yimou Zhang   \n",
      "6  A jazz pianist falls for an aspiring actress i...       Damien Chazelle   \n",
      "7  A has-been actor best known for playing the ti...            Sean Foley   \n",
      "8  A true-life drama, centering on British explor...            James Gray   \n",
      "9  A spacecraft traveling to a distant colony pla...         Morten Tyldum   \n",
      "\n",
      "                                              Actors  Year  Runtime (Minutes)  \\\n",
      "0  Chris Pratt, Vin Diesel, Bradley Cooper, Zoe S...  2014                121   \n",
      "1  Noomi Rapace, Logan Marshall-Green, Michael Fa...  2012                124   \n",
      "2  James McAvoy, Anya Taylor-Joy, Haley Lu Richar...  2016                117   \n",
      "3  Matthew McConaughey,Reese Witherspoon, Seth Ma...  2016                108   \n",
      "4  Will Smith, Jared Leto, Margot Robbie, Viola D...  2016                123   \n",
      "5      Matt Damon, Tian Jing, Willem Dafoe, Andy Lau  2016                103   \n",
      "6  Ryan Gosling, Emma Stone, Rosemarie DeWitt, J....  2016                128   \n",
      "7  Essie Davis, Andrea Riseborough, Julian Barrat...  2016                 89   \n",
      "8  Charlie Hunnam, Robert Pattinson, Sienna Mille...  2016                141   \n",
      "9  Jennifer Lawrence, Chris Pratt, Michael Sheen,...  2016                116   \n",
      "\n",
      "   Rating   Votes  Revenue (Millions)  Metascore  \n",
      "0     8.1  757074              333.13       76.0  \n",
      "1     7.0  485820              126.46       65.0  \n",
      "2     7.3  157606              138.12       62.0  \n",
      "3     7.2   60545              270.32       59.0  \n",
      "4     6.2  393727              325.02       40.0  \n",
      "5     6.1   56036               45.13       42.0  \n",
      "6     8.3  258682              151.06       93.0  \n",
      "7     6.4    2490                 NaN       71.0  \n",
      "8     7.1    7188                8.01       78.0  \n",
      "9     7.0  192177              100.01       41.0  \n"
     ]
    }
   ],
   "source": [
    "print(df[:10])"
   ]
  },
  {
   "cell_type": "markdown",
   "metadata": {},
   "source": [
    "### Affichage du nombre de films de chaque genre\n",
    "\n",
    "Certains films sont associés à plusieurs genres : ils devront donc être comptabilisés dans chacun des genres (un genre est représenté par un seul mot)."
   ]
  },
  {
   "cell_type": "code",
   "execution_count": 42,
   "metadata": {},
   "outputs": [
    {
     "name": "stdout",
     "output_type": "stream",
     "text": [
      "Action : 303\n",
      "Adventure : 259\n",
      "Sci-Fi : 120\n",
      "Mystery : 106\n",
      "Horror : 119\n",
      "Thriller : 195\n",
      "Animation : 49\n",
      "Comedy : 279\n",
      "Family : 51\n",
      "Fantasy : 101\n",
      "Drama : 513\n",
      "Music : 16\n",
      "Biography : 81\n",
      "Romance : 141\n",
      "History : 29\n",
      "Crime : 150\n",
      "Western : 7\n",
      "War : 13\n",
      "Musical : 5\n",
      "Sport : 18\n"
     ]
    }
   ],
   "source": [
    "genreArr = []\n",
    "for genres in df['Genre'].unique():\n",
    "    for genre in genres.split(\",\"):\n",
    "        if(genre not in genreArr):\n",
    "            genreArr.append(genre)\n",
    "\n",
    "for genre in genreArr:\n",
    "    print(genre+\" : \"+str(df['Genre'].apply(lambda x: genre in x.split(',')).value_counts()[True]))"
   ]
  },
  {
   "cell_type": "markdown",
   "metadata": {},
   "source": [
    "### Affichage du nombre de films par genre et par année\n",
    "\n",
    "Afficher un histogramme donnant la répartition du nombre de films par genre, pour chaque année."
   ]
  },
  {
   "cell_type": "code",
   "execution_count": 19,
   "metadata": {},
   "outputs": [
    {
     "data": {
      "text/plain": [
       "0      2014\n",
       "1      2012\n",
       "2      2016\n",
       "3      2016\n",
       "4      2016\n",
       "       ... \n",
       "995    2015\n",
       "996    2007\n",
       "997    2008\n",
       "998    2014\n",
       "999    2016\n",
       "Name: Year, Length: 1000, dtype: int64"
      ]
     },
     "execution_count": 19,
     "metadata": {},
     "output_type": "execute_result"
    }
   ],
   "source": [
    "df['Year']"
   ]
  },
  {
   "cell_type": "markdown",
   "metadata": {},
   "source": [
    "### Création d'un dataframe contenant uniquement le titre du film, son résumé ainsi que son genre"
   ]
  },
  {
   "cell_type": "code",
   "execution_count": 26,
   "metadata": {},
   "outputs": [
    {
     "name": "stdout",
     "output_type": "stream",
     "text": [
      "                       Title                     Genre  \\\n",
      "0    Guardians of the Galaxy   Action,Adventure,Sci-Fi   \n",
      "1                 Prometheus  Adventure,Mystery,Sci-Fi   \n",
      "2                      Split           Horror,Thriller   \n",
      "3                       Sing   Animation,Comedy,Family   \n",
      "4              Suicide Squad  Action,Adventure,Fantasy   \n",
      "..                       ...                       ...   \n",
      "995     Secret in Their Eyes       Crime,Drama,Mystery   \n",
      "996          Hostel: Part II                    Horror   \n",
      "997   Step Up 2: The Streets       Drama,Music,Romance   \n",
      "998             Search Party          Adventure,Comedy   \n",
      "999               Nine Lives     Comedy,Family,Fantasy   \n",
      "\n",
      "                                           Description  \n",
      "0    A group of intergalactic criminals are forced ...  \n",
      "1    Following clues to the origin of mankind, a te...  \n",
      "2    Three girls are kidnapped by a man with a diag...  \n",
      "3    In a city of humanoid animals, a hustling thea...  \n",
      "4    A secret government agency recruits some of th...  \n",
      "..                                                 ...  \n",
      "995  A tight-knit team of rising investigators, alo...  \n",
      "996  Three American college students studying abroa...  \n",
      "997  Romantic sparks occur between two dance studen...  \n",
      "998  A pair of friends embark on a mission to reuni...  \n",
      "999  A stuffy businessman finds himself trapped ins...  \n",
      "\n",
      "[1000 rows x 3 columns]\n"
     ]
    }
   ],
   "source": [
    "small_df = df[['Title','Genre','Description']]\n",
    "print(small_df)"
   ]
  },
  {
   "cell_type": "markdown",
   "metadata": {},
   "source": [
    "\n",
    "## 2. Classification binaire d'un genre de film choisi\n",
    "\n",
    "Vous devrez tout d'abord choisir un genre de films parmi ceux présents dans les données. L'objectif sera ensuite de créer un classifieur permettant d'indiquer si un film appartient au genre choisi, en utilisant la description du film."
   ]
  },
  {
   "cell_type": "markdown",
   "metadata": {},
   "source": [
    "### Ajout d'une colonne correspondant à l'appartenance ou non du film au genre choisi\n",
    "\n",
    "Le genre choisi pour la suite est **indiquer ici le genre choisi**.\n",
    "\n",
    "Si le film appartient à ce genre, il aura la valeur 1 dans cette nouvelle colonne et il aura la valeur 0 dans le cas contraire."
   ]
  },
  {
   "cell_type": "code",
   "execution_count": null,
   "metadata": {},
   "outputs": [],
   "source": []
  },
  {
   "cell_type": "markdown",
   "metadata": {},
   "source": [
    "### Séparation des données en un ensemble d'apprentissage (80% des données) et un ensemble de test (20% des données)\n",
    "Les classes devront être équilibrées, c'est-à-dire que le genre choisi doit avoir la même représentativité, dans l'ensemble d'apprentissage et dans l'ensemble de test."
   ]
  },
  {
   "cell_type": "code",
   "execution_count": null,
   "metadata": {},
   "outputs": [],
   "source": []
  },
  {
   "cell_type": "markdown",
   "metadata": {},
   "source": [
    "### Identification des 10 mots les plus caractéristiques du genre choisi (mots les plus fréquents pour le genre choisi et qui apparaissent peu ou pas dans les descriptions des films des autres genres) "
   ]
  },
  {
   "cell_type": "code",
   "execution_count": null,
   "metadata": {},
   "outputs": [],
   "source": []
  },
  {
   "cell_type": "markdown",
   "metadata": {},
   "source": [
    "### Créer une nouvelle représentation des données, dans un nouveau dataframe, en indiquant le nombre d'occurrences de chaque mot caractéristique du genre, dans le résumé du film\n",
    "Chaque film sera ainsi décrit par une colonne indiquant son nom, une colonne indiquant s'il appartient ou non au genre choisi et autant de colonnes que de mots caractéristiques (l'en-tête de chacune de ces colonnes sera le mot choisi et, pour chaque ligne correspondant à un film, on aura le nombre d'occurrences du mot dans le résumé du film correspondant)."
   ]
  },
  {
   "cell_type": "code",
   "execution_count": null,
   "metadata": {},
   "outputs": [],
   "source": []
  },
  {
   "cell_type": "markdown",
   "metadata": {},
   "source": [
    "### Test de différents classifieurs pour identifier le genre de film choisi (k-plus-proches-voisins, SVM, classification naïve de Bayes...).\n",
    "\n",
    "Vous afficherez les performances et la matrice de confusion pour le meilleur classifieur de chaque type. Vous pourrez également utiliser de la validation croisée."
   ]
  },
  {
   "cell_type": "code",
   "execution_count": null,
   "metadata": {},
   "outputs": [],
   "source": []
  },
  {
   "cell_type": "markdown",
   "metadata": {},
   "source": [
    "## 3. Utilisation d'autres caractéristiques pour représenter les films (pour aller plus loin et avoir plus de points)\n",
    "\n",
    "Vous avez décrit les films par les 10 mots les plus représentatifs du genre choisi mais les films pourraient être décrits par d'autres caractéristiques (voir le fichier \"chapter4_BuildingAFakeNewsClassifier.pdf\", par exemple). Vous pouvez reprendre la partie précédente, en utilisation une représentation des films qui prend en compte l'ensemble des mots de leur résumé, après d'éventuels pré-traitements sur les mots (voir \"spacy_cheatSheet.pdf\" et le site web de [spaCy](https://spacy.io))."
   ]
  },
  {
   "cell_type": "code",
   "execution_count": null,
   "metadata": {},
   "outputs": [],
   "source": []
  }
 ],
 "metadata": {
  "interpreter": {
   "hash": "916dbcbb3f70747c44a77c7bcd40155683ae19c65e1c03b4aa3499c5328201f1"
  },
  "kernelspec": {
   "display_name": "Python 3.9.2 64-bit",
   "language": "python",
   "name": "python3"
  },
  "language_info": {
   "codemirror_mode": {
    "name": "ipython",
    "version": 3
   },
   "file_extension": ".py",
   "mimetype": "text/x-python",
   "name": "python",
   "nbconvert_exporter": "python",
   "pygments_lexer": "ipython3",
   "version": "3.9.2"
  }
 },
 "nbformat": 4,
 "nbformat_minor": 4
}
