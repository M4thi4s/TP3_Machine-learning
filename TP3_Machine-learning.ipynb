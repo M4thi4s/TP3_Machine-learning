{
 "cells": [
  {
   "cell_type": "markdown",
   "metadata": {},
   "source": [
    "# Présentation du TP sur la classification de films\n",
    "\n",
    "L'objectif de ce TP est d'identifier le genre d'un film à partir de son résumé.\n",
    "\n",
    "Le TP se fera en binôme et le notebook sera à déposer sur madoc pour le **vendredi 08/04/2022**."
   ]
  },
  {
   "cell_type": "markdown",
   "metadata": {},
   "source": [
    "## 1. Pré-traitement et visualisation des données \n",
    "\n",
    "Les données correspondent aux 1000 films les plus populaires d'IMDB, entre 2006 et 2016 ([imdb-data](https://www.kaggle.com/datasets/PromptCloudHQ/imdb-data)).  \n",
    "\n",
    "Dans cette première partie du TP, vous devrez récupérer les données et les stocker dans un dataframe puis effectuer quelques visualisations de celles-ci."
   ]
  },
  {
   "cell_type": "markdown",
   "metadata": {},
   "source": [
    "### Import des données dans un dataframe\n"
   ]
  },
  {
   "cell_type": "code",
   "execution_count": 1,
   "metadata": {},
   "outputs": [
    {
     "name": "stdout",
     "output_type": "stream",
     "text": [
      "     Rank                    Title                     Genre  \\\n",
      "0       1  Guardians of the Galaxy   Action,Adventure,Sci-Fi   \n",
      "1       2               Prometheus  Adventure,Mystery,Sci-Fi   \n",
      "2       3                    Split           Horror,Thriller   \n",
      "3       4                     Sing   Animation,Comedy,Family   \n",
      "4       5            Suicide Squad  Action,Adventure,Fantasy   \n",
      "..    ...                      ...                       ...   \n",
      "995   996     Secret in Their Eyes       Crime,Drama,Mystery   \n",
      "996   997          Hostel: Part II                    Horror   \n",
      "997   998   Step Up 2: The Streets       Drama,Music,Romance   \n",
      "998   999             Search Party          Adventure,Comedy   \n",
      "999  1000               Nine Lives     Comedy,Family,Fantasy   \n",
      "\n",
      "                                           Description              Director  \\\n",
      "0    A group of intergalactic criminals are forced ...            James Gunn   \n",
      "1    Following clues to the origin of mankind, a te...          Ridley Scott   \n",
      "2    Three girls are kidnapped by a man with a diag...    M. Night Shyamalan   \n",
      "3    In a city of humanoid animals, a hustling thea...  Christophe Lourdelet   \n",
      "4    A secret government agency recruits some of th...            David Ayer   \n",
      "..                                                 ...                   ...   \n",
      "995  A tight-knit team of rising investigators, alo...             Billy Ray   \n",
      "996  Three American college students studying abroa...              Eli Roth   \n",
      "997  Romantic sparks occur between two dance studen...            Jon M. Chu   \n",
      "998  A pair of friends embark on a mission to reuni...        Scot Armstrong   \n",
      "999  A stuffy businessman finds himself trapped ins...      Barry Sonnenfeld   \n",
      "\n",
      "                                                Actors  Year  \\\n",
      "0    Chris Pratt, Vin Diesel, Bradley Cooper, Zoe S...  2014   \n",
      "1    Noomi Rapace, Logan Marshall-Green, Michael Fa...  2012   \n",
      "2    James McAvoy, Anya Taylor-Joy, Haley Lu Richar...  2016   \n",
      "3    Matthew McConaughey,Reese Witherspoon, Seth Ma...  2016   \n",
      "4    Will Smith, Jared Leto, Margot Robbie, Viola D...  2016   \n",
      "..                                                 ...   ...   \n",
      "995  Chiwetel Ejiofor, Nicole Kidman, Julia Roberts...  2015   \n",
      "996  Lauren German, Heather Matarazzo, Bijou Philli...  2007   \n",
      "997  Robert Hoffman, Briana Evigan, Cassie Ventura,...  2008   \n",
      "998  Adam Pally, T.J. Miller, Thomas Middleditch,Sh...  2014   \n",
      "999  Kevin Spacey, Jennifer Garner, Robbie Amell,Ch...  2016   \n",
      "\n",
      "     Runtime (Minutes)  Rating   Votes  Revenue (Millions)  Metascore  \n",
      "0                  121     8.1  757074              333.13       76.0  \n",
      "1                  124     7.0  485820              126.46       65.0  \n",
      "2                  117     7.3  157606              138.12       62.0  \n",
      "3                  108     7.2   60545              270.32       59.0  \n",
      "4                  123     6.2  393727              325.02       40.0  \n",
      "..                 ...     ...     ...                 ...        ...  \n",
      "995                111     6.2   27585                 NaN       45.0  \n",
      "996                 94     5.5   73152               17.54       46.0  \n",
      "997                 98     6.2   70699               58.01       50.0  \n",
      "998                 93     5.6    4881                 NaN       22.0  \n",
      "999                 87     5.3   12435               19.64       11.0  \n",
      "\n",
      "[1000 rows x 12 columns]\n"
     ]
    }
   ],
   "source": [
    "import pandas as pd \n",
    "df = pd.read_csv('./data/IMDB-Movie-Data.csv')\n",
    "print(df)"
   ]
  },
  {
   "cell_type": "markdown",
   "metadata": {},
   "source": [
    "### Affichage des 10 premiers films\n"
   ]
  },
  {
   "cell_type": "code",
   "execution_count": 4,
   "metadata": {},
   "outputs": [
    {
     "name": "stdout",
     "output_type": "stream",
     "text": [
      "   Rank                    Title                       Genre  \\\n",
      "0     1  Guardians of the Galaxy     Action,Adventure,Sci-Fi   \n",
      "1     2               Prometheus    Adventure,Mystery,Sci-Fi   \n",
      "2     3                    Split             Horror,Thriller   \n",
      "3     4                     Sing     Animation,Comedy,Family   \n",
      "4     5            Suicide Squad    Action,Adventure,Fantasy   \n",
      "5     6           The Great Wall    Action,Adventure,Fantasy   \n",
      "6     7               La La Land          Comedy,Drama,Music   \n",
      "7     8                 Mindhorn                      Comedy   \n",
      "8     9       The Lost City of Z  Action,Adventure,Biography   \n",
      "9    10               Passengers     Adventure,Drama,Romance   \n",
      "\n",
      "                                         Description              Director  \\\n",
      "0  A group of intergalactic criminals are forced ...            James Gunn   \n",
      "1  Following clues to the origin of mankind, a te...          Ridley Scott   \n",
      "2  Three girls are kidnapped by a man with a diag...    M. Night Shyamalan   \n",
      "3  In a city of humanoid animals, a hustling thea...  Christophe Lourdelet   \n",
      "4  A secret government agency recruits some of th...            David Ayer   \n",
      "5  European mercenaries searching for black powde...           Yimou Zhang   \n",
      "6  A jazz pianist falls for an aspiring actress i...       Damien Chazelle   \n",
      "7  A has-been actor best known for playing the ti...            Sean Foley   \n",
      "8  A true-life drama, centering on British explor...            James Gray   \n",
      "9  A spacecraft traveling to a distant colony pla...         Morten Tyldum   \n",
      "\n",
      "                                              Actors  Year  Runtime (Minutes)  \\\n",
      "0  Chris Pratt, Vin Diesel, Bradley Cooper, Zoe S...  2014                121   \n",
      "1  Noomi Rapace, Logan Marshall-Green, Michael Fa...  2012                124   \n",
      "2  James McAvoy, Anya Taylor-Joy, Haley Lu Richar...  2016                117   \n",
      "3  Matthew McConaughey,Reese Witherspoon, Seth Ma...  2016                108   \n",
      "4  Will Smith, Jared Leto, Margot Robbie, Viola D...  2016                123   \n",
      "5      Matt Damon, Tian Jing, Willem Dafoe, Andy Lau  2016                103   \n",
      "6  Ryan Gosling, Emma Stone, Rosemarie DeWitt, J....  2016                128   \n",
      "7  Essie Davis, Andrea Riseborough, Julian Barrat...  2016                 89   \n",
      "8  Charlie Hunnam, Robert Pattinson, Sienna Mille...  2016                141   \n",
      "9  Jennifer Lawrence, Chris Pratt, Michael Sheen,...  2016                116   \n",
      "\n",
      "   Rating   Votes  Revenue (Millions)  Metascore  \n",
      "0     8.1  757074              333.13       76.0  \n",
      "1     7.0  485820              126.46       65.0  \n",
      "2     7.3  157606              138.12       62.0  \n",
      "3     7.2   60545              270.32       59.0  \n",
      "4     6.2  393727              325.02       40.0  \n",
      "5     6.1   56036               45.13       42.0  \n",
      "6     8.3  258682              151.06       93.0  \n",
      "7     6.4    2490                 NaN       71.0  \n",
      "8     7.1    7188                8.01       78.0  \n",
      "9     7.0  192177              100.01       41.0  \n"
     ]
    }
   ],
   "source": [
    "\n",
    "print(df[:10])"
   ]
  },
  {
   "cell_type": "markdown",
   "metadata": {},
   "source": [
    "### Affichage du nombre de films de chaque genre\n",
    "\n",
    "Certains films sont associés à plusieurs genres : ils devront donc être comptabilisés dans chacun des genres (un genre est représenté par un seul mot)."
   ]
  },
  {
   "cell_type": "code",
   "execution_count": 16,
   "metadata": {},
   "outputs": [
    {
     "ename": "ValueError",
     "evalue": "level > 0 or level < -1 only valid with MultiIndex",
     "output_type": "error",
     "traceback": [
      "\u001b[0;31m---------------------------------------------------------------------------\u001b[0m",
      "\u001b[0;31mValueError\u001b[0m                                Traceback (most recent call last)",
      "\u001b[1;32m/home/E207253A/reseau/Perso/Documents/Deuxieme_annee/S4/TPRO/TP3_Machine-learning/TP3_Machine-learning.ipynb Cell 8'\u001b[0m in \u001b[0;36m<cell line: 1>\u001b[0;34m()\u001b[0m\n\u001b[0;32m----> <a href='vscode-notebook-cell:/home/E207253A/reseau/Perso/Documents/Deuxieme_annee/S4/TPRO/TP3_Machine-learning/TP3_Machine-learning.ipynb#ch0000007?line=0'>1</a>\u001b[0m df2 \u001b[39m=\u001b[39m df\u001b[39m.\u001b[39;49mgroupby([\u001b[39m'\u001b[39;49m\u001b[39mGenre\u001b[39;49m\u001b[39m'\u001b[39;49m],level\u001b[39m=\u001b[39;49m\u001b[39m2\u001b[39;49m)[\u001b[39m'\u001b[39m\u001b[39mTitle\u001b[39m\u001b[39m'\u001b[39m]\u001b[39m.\u001b[39mcount()\n\u001b[1;32m      <a href='vscode-notebook-cell:/home/E207253A/reseau/Perso/Documents/Deuxieme_annee/S4/TPRO/TP3_Machine-learning/TP3_Machine-learning.ipynb#ch0000007?line=1'>2</a>\u001b[0m \u001b[39mprint\u001b[39m(df2)\n",
      "File \u001b[0;32m/usr/lib/python3/dist-packages/pandas/core/frame.py:6515\u001b[0m, in \u001b[0;36mDataFrame.groupby\u001b[0;34m(self, by, axis, level, as_index, sort, group_keys, squeeze, observed, dropna)\u001b[0m\n\u001b[1;32m   <a href='file:///usr/lib/python3/dist-packages/pandas/core/frame.py?line=6511'>6512</a>\u001b[0m     \u001b[39mraise\u001b[39;00m \u001b[39mTypeError\u001b[39;00m(\u001b[39m\"\u001b[39m\u001b[39mYou have to supply one of \u001b[39m\u001b[39m'\u001b[39m\u001b[39mby\u001b[39m\u001b[39m'\u001b[39m\u001b[39m and \u001b[39m\u001b[39m'\u001b[39m\u001b[39mlevel\u001b[39m\u001b[39m'\u001b[39m\u001b[39m\"\u001b[39m)\n\u001b[1;32m   <a href='file:///usr/lib/python3/dist-packages/pandas/core/frame.py?line=6512'>6513</a>\u001b[0m axis \u001b[39m=\u001b[39m \u001b[39mself\u001b[39m\u001b[39m.\u001b[39m_get_axis_number(axis)\n\u001b[0;32m-> <a href='file:///usr/lib/python3/dist-packages/pandas/core/frame.py?line=6514'>6515</a>\u001b[0m \u001b[39mreturn\u001b[39;00m DataFrameGroupBy(\n\u001b[1;32m   <a href='file:///usr/lib/python3/dist-packages/pandas/core/frame.py?line=6515'>6516</a>\u001b[0m     obj\u001b[39m=\u001b[39;49m\u001b[39mself\u001b[39;49m,\n\u001b[1;32m   <a href='file:///usr/lib/python3/dist-packages/pandas/core/frame.py?line=6516'>6517</a>\u001b[0m     keys\u001b[39m=\u001b[39;49mby,\n\u001b[1;32m   <a href='file:///usr/lib/python3/dist-packages/pandas/core/frame.py?line=6517'>6518</a>\u001b[0m     axis\u001b[39m=\u001b[39;49maxis,\n\u001b[1;32m   <a href='file:///usr/lib/python3/dist-packages/pandas/core/frame.py?line=6518'>6519</a>\u001b[0m     level\u001b[39m=\u001b[39;49mlevel,\n\u001b[1;32m   <a href='file:///usr/lib/python3/dist-packages/pandas/core/frame.py?line=6519'>6520</a>\u001b[0m     as_index\u001b[39m=\u001b[39;49mas_index,\n\u001b[1;32m   <a href='file:///usr/lib/python3/dist-packages/pandas/core/frame.py?line=6520'>6521</a>\u001b[0m     sort\u001b[39m=\u001b[39;49msort,\n\u001b[1;32m   <a href='file:///usr/lib/python3/dist-packages/pandas/core/frame.py?line=6521'>6522</a>\u001b[0m     group_keys\u001b[39m=\u001b[39;49mgroup_keys,\n\u001b[1;32m   <a href='file:///usr/lib/python3/dist-packages/pandas/core/frame.py?line=6522'>6523</a>\u001b[0m     squeeze\u001b[39m=\u001b[39;49msqueeze,\n\u001b[1;32m   <a href='file:///usr/lib/python3/dist-packages/pandas/core/frame.py?line=6523'>6524</a>\u001b[0m     observed\u001b[39m=\u001b[39;49mobserved,\n\u001b[1;32m   <a href='file:///usr/lib/python3/dist-packages/pandas/core/frame.py?line=6524'>6525</a>\u001b[0m     dropna\u001b[39m=\u001b[39;49mdropna,\n\u001b[1;32m   <a href='file:///usr/lib/python3/dist-packages/pandas/core/frame.py?line=6525'>6526</a>\u001b[0m )\n",
      "File \u001b[0;32m/usr/lib/python3/dist-packages/pandas/core/groupby/groupby.py:525\u001b[0m, in \u001b[0;36m_GroupBy.__init__\u001b[0;34m(self, obj, keys, axis, level, grouper, exclusions, selection, as_index, sort, group_keys, squeeze, observed, mutated, dropna)\u001b[0m\n\u001b[1;32m    <a href='file:///usr/lib/python3/dist-packages/pandas/core/groupby/groupby.py?line=521'>522</a>\u001b[0m \u001b[39mif\u001b[39;00m grouper \u001b[39mis\u001b[39;00m \u001b[39mNone\u001b[39;00m:\n\u001b[1;32m    <a href='file:///usr/lib/python3/dist-packages/pandas/core/groupby/groupby.py?line=522'>523</a>\u001b[0m     \u001b[39mfrom\u001b[39;00m \u001b[39mpandas\u001b[39;00m\u001b[39m.\u001b[39;00m\u001b[39mcore\u001b[39;00m\u001b[39m.\u001b[39;00m\u001b[39mgroupby\u001b[39;00m\u001b[39m.\u001b[39;00m\u001b[39mgrouper\u001b[39;00m \u001b[39mimport\u001b[39;00m get_grouper\n\u001b[0;32m--> <a href='file:///usr/lib/python3/dist-packages/pandas/core/groupby/groupby.py?line=524'>525</a>\u001b[0m     grouper, exclusions, obj \u001b[39m=\u001b[39m get_grouper(\n\u001b[1;32m    <a href='file:///usr/lib/python3/dist-packages/pandas/core/groupby/groupby.py?line=525'>526</a>\u001b[0m         obj,\n\u001b[1;32m    <a href='file:///usr/lib/python3/dist-packages/pandas/core/groupby/groupby.py?line=526'>527</a>\u001b[0m         keys,\n\u001b[1;32m    <a href='file:///usr/lib/python3/dist-packages/pandas/core/groupby/groupby.py?line=527'>528</a>\u001b[0m         axis\u001b[39m=\u001b[39;49maxis,\n\u001b[1;32m    <a href='file:///usr/lib/python3/dist-packages/pandas/core/groupby/groupby.py?line=528'>529</a>\u001b[0m         level\u001b[39m=\u001b[39;49mlevel,\n\u001b[1;32m    <a href='file:///usr/lib/python3/dist-packages/pandas/core/groupby/groupby.py?line=529'>530</a>\u001b[0m         sort\u001b[39m=\u001b[39;49msort,\n\u001b[1;32m    <a href='file:///usr/lib/python3/dist-packages/pandas/core/groupby/groupby.py?line=530'>531</a>\u001b[0m         observed\u001b[39m=\u001b[39;49mobserved,\n\u001b[1;32m    <a href='file:///usr/lib/python3/dist-packages/pandas/core/groupby/groupby.py?line=531'>532</a>\u001b[0m         mutated\u001b[39m=\u001b[39;49m\u001b[39mself\u001b[39;49m\u001b[39m.\u001b[39;49mmutated,\n\u001b[1;32m    <a href='file:///usr/lib/python3/dist-packages/pandas/core/groupby/groupby.py?line=532'>533</a>\u001b[0m         dropna\u001b[39m=\u001b[39;49m\u001b[39mself\u001b[39;49m\u001b[39m.\u001b[39;49mdropna,\n\u001b[1;32m    <a href='file:///usr/lib/python3/dist-packages/pandas/core/groupby/groupby.py?line=533'>534</a>\u001b[0m     )\n\u001b[1;32m    <a href='file:///usr/lib/python3/dist-packages/pandas/core/groupby/groupby.py?line=535'>536</a>\u001b[0m \u001b[39mself\u001b[39m\u001b[39m.\u001b[39mobj \u001b[39m=\u001b[39m obj\n\u001b[1;32m    <a href='file:///usr/lib/python3/dist-packages/pandas/core/groupby/groupby.py?line=536'>537</a>\u001b[0m \u001b[39mself\u001b[39m\u001b[39m.\u001b[39maxis \u001b[39m=\u001b[39m obj\u001b[39m.\u001b[39m_get_axis_number(axis)\n",
      "File \u001b[0;32m/usr/lib/python3/dist-packages/pandas/core/groupby/grouper.py:685\u001b[0m, in \u001b[0;36mget_grouper\u001b[0;34m(obj, key, axis, level, sort, observed, mutated, validate, dropna)\u001b[0m\n\u001b[1;32m    <a href='file:///usr/lib/python3/dist-packages/pandas/core/groupby/grouper.py?line=679'>680</a>\u001b[0m         \u001b[39mraise\u001b[39;00m \u001b[39mValueError\u001b[39;00m(\n\u001b[1;32m    <a href='file:///usr/lib/python3/dist-packages/pandas/core/groupby/grouper.py?line=680'>681</a>\u001b[0m             \u001b[39mf\u001b[39m\u001b[39m\"\u001b[39m\u001b[39mlevel name \u001b[39m\u001b[39m{\u001b[39;00mlevel\u001b[39m}\u001b[39;00m\u001b[39m is not the name \u001b[39m\u001b[39m\"\u001b[39m\n\u001b[1;32m    <a href='file:///usr/lib/python3/dist-packages/pandas/core/groupby/grouper.py?line=681'>682</a>\u001b[0m             \u001b[39mf\u001b[39m\u001b[39m\"\u001b[39m\u001b[39mof the \u001b[39m\u001b[39m{\u001b[39;00mobj\u001b[39m.\u001b[39m_get_axis_name(axis)\u001b[39m}\u001b[39;00m\u001b[39m\"\u001b[39m\n\u001b[1;32m    <a href='file:///usr/lib/python3/dist-packages/pandas/core/groupby/grouper.py?line=682'>683</a>\u001b[0m         )\n\u001b[1;32m    <a href='file:///usr/lib/python3/dist-packages/pandas/core/groupby/grouper.py?line=683'>684</a>\u001b[0m \u001b[39melif\u001b[39;00m level \u001b[39m>\u001b[39m \u001b[39m0\u001b[39m \u001b[39mor\u001b[39;00m level \u001b[39m<\u001b[39m \u001b[39m-\u001b[39m\u001b[39m1\u001b[39m:\n\u001b[0;32m--> <a href='file:///usr/lib/python3/dist-packages/pandas/core/groupby/grouper.py?line=684'>685</a>\u001b[0m     \u001b[39mraise\u001b[39;00m \u001b[39mValueError\u001b[39;00m(\u001b[39m\"\u001b[39m\u001b[39mlevel > 0 or level < -1 only valid with MultiIndex\u001b[39m\u001b[39m\"\u001b[39m)\n\u001b[1;32m    <a href='file:///usr/lib/python3/dist-packages/pandas/core/groupby/grouper.py?line=686'>687</a>\u001b[0m \u001b[39m# NOTE: `group_axis` and `group_axis.get_level_values(level)`\u001b[39;00m\n\u001b[1;32m    <a href='file:///usr/lib/python3/dist-packages/pandas/core/groupby/grouper.py?line=687'>688</a>\u001b[0m \u001b[39m# are same in this section.\u001b[39;00m\n\u001b[1;32m    <a href='file:///usr/lib/python3/dist-packages/pandas/core/groupby/grouper.py?line=688'>689</a>\u001b[0m level \u001b[39m=\u001b[39m \u001b[39mNone\u001b[39;00m\n",
      "\u001b[0;31mValueError\u001b[0m: level > 0 or level < -1 only valid with MultiIndex"
     ]
    }
   ],
   "source": [
    "df2 = df.groupby(['Genre'],sort=)['Title'].count()\n",
    "print(df2)"
   ]
  },
  {
   "cell_type": "markdown",
   "metadata": {},
   "source": [
    "### Affichage du nombre de films par genre et par année\n",
    "\n",
    "Afficher un histogramme donnant la répartition du nombre de films par genre, pour chaque année."
   ]
  },
  {
   "cell_type": "code",
   "execution_count": null,
   "metadata": {},
   "outputs": [],
   "source": []
  },
  {
   "cell_type": "markdown",
   "metadata": {},
   "source": [
    "### Création d'un dataframe contenant uniquement le titre du film, son résumé ainsi que son genre"
   ]
  },
  {
   "cell_type": "code",
   "execution_count": null,
   "metadata": {},
   "outputs": [],
   "source": []
  },
  {
   "cell_type": "markdown",
   "metadata": {},
   "source": [
    "\n",
    "## 2. Classification binaire d'un genre de film choisi\n",
    "\n",
    "Vous devrez tout d'abord choisir un genre de films parmi ceux présents dans les données. L'objectif sera ensuite de créer un classifieur permettant d'indiquer si un film appartient au genre choisi, en utilisant la description du film."
   ]
  },
  {
   "cell_type": "markdown",
   "metadata": {},
   "source": [
    "### Ajout d'une colonne correspondant à l'appartenance ou non du film au genre choisi\n",
    "\n",
    "Le genre choisi pour la suite est **indiquer ici le genre choisi**.\n",
    "\n",
    "Si le film appartient à ce genre, il aura la valeur 1 dans cette nouvelle colonne et il aura la valeur 0 dans le cas contraire."
   ]
  },
  {
   "cell_type": "code",
   "execution_count": null,
   "metadata": {},
   "outputs": [],
   "source": []
  },
  {
   "cell_type": "markdown",
   "metadata": {},
   "source": [
    "### Séparation des données en un ensemble d'apprentissage (80% des données) et un ensemble de test (20% des données)\n",
    "Les classes devront être équilibrées, c'est-à-dire que le genre choisi doit avoir la même représentativité, dans l'ensemble d'apprentissage et dans l'ensemble de test."
   ]
  },
  {
   "cell_type": "code",
   "execution_count": null,
   "metadata": {},
   "outputs": [],
   "source": []
  },
  {
   "cell_type": "markdown",
   "metadata": {},
   "source": [
    "### Identification des 10 mots les plus caractéristiques du genre choisi (mots les plus fréquents pour le genre choisi et qui apparaissent peu ou pas dans les descriptions des films des autres genres) "
   ]
  },
  {
   "cell_type": "code",
   "execution_count": null,
   "metadata": {},
   "outputs": [],
   "source": []
  },
  {
   "cell_type": "markdown",
   "metadata": {},
   "source": [
    "### Créer une nouvelle représentation des données, dans un nouveau dataframe, en indiquant le nombre d'occurrences de chaque mot caractéristique du genre, dans le résumé du film\n",
    "Chaque film sera ainsi décrit par une colonne indiquant son nom, une colonne indiquant s'il appartient ou non au genre choisi et autant de colonnes que de mots caractéristiques (l'en-tête de chacune de ces colonnes sera le mot choisi et, pour chaque ligne correspondant à un film, on aura le nombre d'occurrences du mot dans le résumé du film correspondant)."
   ]
  },
  {
   "cell_type": "code",
   "execution_count": null,
   "metadata": {},
   "outputs": [],
   "source": []
  },
  {
   "cell_type": "markdown",
   "metadata": {},
   "source": [
    "### Test de différents classifieurs pour identifier le genre de film choisi (k-plus-proches-voisins, SVM, classification naïve de Bayes...).\n",
    "\n",
    "Vous afficherez les performances et la matrice de confusion pour le meilleur classifieur de chaque type. Vous pourrez également utiliser de la validation croisée."
   ]
  },
  {
   "cell_type": "code",
   "execution_count": null,
   "metadata": {},
   "outputs": [],
   "source": []
  },
  {
   "cell_type": "markdown",
   "metadata": {},
   "source": [
    "## 3. Utilisation d'autres caractéristiques pour représenter les films (pour aller plus loin et avoir plus de points)\n",
    "\n",
    "Vous avez décrit les films par les 10 mots les plus représentatifs du genre choisi mais les films pourraient être décrits par d'autres caractéristiques (voir le fichier \"chapter4_BuildingAFakeNewsClassifier.pdf\", par exemple). Vous pouvez reprendre la partie précédente, en utilisation une représentation des films qui prend en compte l'ensemble des mots de leur résumé, après d'éventuels pré-traitements sur les mots (voir \"spacy_cheatSheet.pdf\" et le site web de [spaCy](https://spacy.io))."
   ]
  },
  {
   "cell_type": "code",
   "execution_count": null,
   "metadata": {},
   "outputs": [],
   "source": []
  }
 ],
 "metadata": {
  "interpreter": {
   "hash": "916dbcbb3f70747c44a77c7bcd40155683ae19c65e1c03b4aa3499c5328201f1"
  },
  "kernelspec": {
   "display_name": "Python 3.9.2 64-bit",
   "language": "python",
   "name": "python3"
  },
  "language_info": {
   "codemirror_mode": {
    "name": "ipython",
    "version": 3
   },
   "file_extension": ".py",
   "mimetype": "text/x-python",
   "name": "python",
   "nbconvert_exporter": "python",
   "pygments_lexer": "ipython3",
   "version": "3.9.2"
  }
 },
 "nbformat": 4,
 "nbformat_minor": 4
}
